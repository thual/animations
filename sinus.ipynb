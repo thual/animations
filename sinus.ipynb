import numpy as np
from matplotlib import pyplot as plt
from matplotlib.animation import FuncAnimation

plt.style.use('seaborn-pastel')

figure = plt.figure ()
axs = plt.axes (xlim = (0, 4), ylim= (-2, 2))
line, = axs.plot ([], [], lw = 3)

def initialization ():
    line.set_data ([], [])
    return line,

def animation(j):
    x_a = np.linspace(0, 4, 1000)
    y_a = np.sin(2 * np.pi * (x_a - 0.01 * j))
    line.set_data(x_a , y_a)
    return line,

anima= FuncAnimation (figure, animation, init_func=initialization,
frames=200, interval=20 , blit=True )
anima.save('sinus_wav.gif', writer='imagemagick')
