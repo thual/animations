{
 "cells": [
  {
   "cell_type": "code",
   "execution_count": null,
   "metadata": {},
   "outputs": [],
   "source": [
    "import numpy as np\n",
    "from matplotlib import pyplot as plt\n",
    "from matplotlib.animation import FuncAnimation\n",
    "\n",
    "plt.style.use('seaborn-pastel')\n",
    "\n",
    "figure = plt.figure ()\n",
    "axs = plt.axes (xlim = (0, 4), ylim= (-2, 2))\n",
    "line, = axs.plot ([], [], lw = 3)\n",
    "\n",
    "def initialization ():\n",
    "    line.set_data ([], [])\n",
    "    return line,\n",
    "\n",
    "def animation(j):\n",
    "    x_a = np.linspace(0, 4, 1000)\n",
    "    y_a = np.sin(2 * np.pi * (x_a - 0.01 * j))\n",
    "    line.set_data(x_a , y_a)\n",
    "    return line,\n",
    "\n",
    "anima= FuncAnimation (figure, animation, init_func=initialization,\n",
    "frames=200, interval=20 , blit=True )\n",
    "anima.save('sinus_wav.gif', writer='imagemagick')"
   ]
  }
 ],
 "metadata": {
  "kernelspec": {
   "display_name": "Python 3",
   "language": "python",
   "name": "python3"
  },
  "language_info": {
   "codemirror_mode": {
    "name": "ipython",
    "version": 3
   },
   "file_extension": ".py",
   "mimetype": "text/x-python",
   "name": "python",
   "nbconvert_exporter": "python",
   "pygments_lexer": "ipython3",
   "version": "3.6.3"
  }
 },
 "nbformat": 4,
 "nbformat_minor": 2
}
